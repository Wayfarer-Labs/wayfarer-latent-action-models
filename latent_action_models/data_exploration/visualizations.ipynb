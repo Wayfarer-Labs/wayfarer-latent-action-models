{
 "cells": [
  {
   "cell_type": "code",
   "execution_count": 7,
   "id": "f642fec4",
   "metadata": {},
   "outputs": [],
   "source": [
    "import  pandas as pd, polars as pl\n",
    "from    pathlib import Path\n",
    "from    toolz import first\n",
    "\n",
    "from    latent_action_models.data_exploration import cache\n",
    "\n",
    "ACTION_PARQUET  = Path(first(cache.__path__)) / 'gta_frames.parquet'\n",
    "EVENT_PARQUET   = Path(first(cache.__path__)) / 'gta_events.parquet'"
   ]
  },
  {
   "cell_type": "code",
   "execution_count": null,
   "id": "6b5b28c2",
   "metadata": {},
   "outputs": [
    {
     "data": {
      "text/html": [
       "<div><style>\n",
       ".dataframe > thead > tr,\n",
       ".dataframe > tbody > tr {\n",
       "  text-align: right;\n",
       "  white-space: pre-wrap;\n",
       "}\n",
       "</style>\n",
       "<small>shape: (5, 64)</small><table border=\"1\" class=\"dataframe\"><thead><tr><th>frame_idx</th><th>dx</th><th>dy</th><th>wheel</th><th>u</th><th>a</th><th>7</th><th>f</th><th>h</th><th>5</th><th>equal</th><th>l</th><th>o</th><th>g</th><th>e</th><th>j</th><th>space</th><th>c</th><th>m</th><th>w</th><th>z</th><th>control</th><th>2</th><th>mouse3</th><th>down</th><th>t</th><th>mouse1</th><th>i</th><th>bracketright</th><th>capslock</th><th>left</th><th>alt</th><th>up</th><th>right</th><th>b</th><th>comma</th><th>r</th><th>p</th><th>8</th><th>n</th><th>k</th><th>mouse4</th><th>minus</th><th>q</th><th>6</th><th>1</th><th>s</th><th>v</th><th>mouse2</th><th>9</th><th>shift</th><th>3</th><th>0; wheelmouse2</th><th>0</th><th>y</th><th>x</th><th>mouse5</th><th>tab</th><th>backslash</th><th>d</th><th>4</th><th>pos_x: -51; pos_y: </th><th>video_path</th><th>t_sec</th></tr><tr><td>i64</td><td>f64</td><td>f64</td><td>f64</td><td>i64</td><td>i64</td><td>i64</td><td>i64</td><td>i64</td><td>i64</td><td>i64</td><td>i64</td><td>i64</td><td>i64</td><td>i64</td><td>i64</td><td>i64</td><td>i64</td><td>i64</td><td>i64</td><td>i64</td><td>i64</td><td>i64</td><td>i64</td><td>i64</td><td>i64</td><td>i64</td><td>i64</td><td>i64</td><td>i64</td><td>i64</td><td>i64</td><td>i64</td><td>i64</td><td>i64</td><td>i64</td><td>i64</td><td>i64</td><td>i64</td><td>i64</td><td>i64</td><td>i64</td><td>i64</td><td>i64</td><td>i64</td><td>i64</td><td>i64</td><td>i64</td><td>i64</td><td>i64</td><td>i64</td><td>i64</td><td>i64</td><td>i64</td><td>i64</td><td>i64</td><td>i64</td><td>i64</td><td>i64</td><td>i64</td><td>i64</td><td>i64</td><td>str</td><td>f64</td></tr></thead><tbody><tr><td>56</td><td>0.0</td><td>0.0</td><td>0.0</td><td>0</td><td>0</td><td>0</td><td>0</td><td>0</td><td>0</td><td>0</td><td>0</td><td>0</td><td>0</td><td>0</td><td>0</td><td>0</td><td>0</td><td>0</td><td>0</td><td>0</td><td>0</td><td>0</td><td>0</td><td>0</td><td>0</td><td>0</td><td>0</td><td>0</td><td>0</td><td>0</td><td>0</td><td>0</td><td>0</td><td>0</td><td>0</td><td>0</td><td>0</td><td>0</td><td>0</td><td>0</td><td>0</td><td>0</td><td>0</td><td>0</td><td>0</td><td>0</td><td>0</td><td>0</td><td>0</td><td>1</td><td>0</td><td>0</td><td>0</td><td>0</td><td>0</td><td>0</td><td>0</td><td>0</td><td>0</td><td>0</td><td>0</td><td>&quot;/mnt/data/shahbuland/video-pro…</td><td>1.866667</td></tr><tr><td>71</td><td>0.0</td><td>0.0</td><td>0.0</td><td>0</td><td>0</td><td>0</td><td>0</td><td>0</td><td>0</td><td>0</td><td>0</td><td>0</td><td>0</td><td>0</td><td>0</td><td>0</td><td>0</td><td>0</td><td>1</td><td>0</td><td>0</td><td>0</td><td>0</td><td>0</td><td>0</td><td>0</td><td>0</td><td>0</td><td>0</td><td>0</td><td>0</td><td>0</td><td>0</td><td>0</td><td>0</td><td>0</td><td>0</td><td>0</td><td>0</td><td>0</td><td>0</td><td>0</td><td>0</td><td>0</td><td>0</td><td>0</td><td>0</td><td>0</td><td>0</td><td>1</td><td>0</td><td>0</td><td>0</td><td>0</td><td>0</td><td>0</td><td>0</td><td>0</td><td>0</td><td>0</td><td>0</td><td>&quot;/mnt/data/shahbuland/video-pro…</td><td>2.366667</td></tr><tr><td>75</td><td>-113.0</td><td>-504.0</td><td>0.0</td><td>null</td><td>null</td><td>null</td><td>null</td><td>null</td><td>null</td><td>null</td><td>null</td><td>null</td><td>null</td><td>null</td><td>null</td><td>null</td><td>null</td><td>null</td><td>null</td><td>null</td><td>null</td><td>null</td><td>null</td><td>null</td><td>null</td><td>null</td><td>null</td><td>null</td><td>null</td><td>null</td><td>null</td><td>null</td><td>null</td><td>null</td><td>null</td><td>null</td><td>null</td><td>null</td><td>null</td><td>null</td><td>null</td><td>null</td><td>null</td><td>null</td><td>null</td><td>null</td><td>null</td><td>null</td><td>null</td><td>null</td><td>null</td><td>null</td><td>null</td><td>null</td><td>null</td><td>null</td><td>null</td><td>null</td><td>null</td><td>null</td><td>null</td><td>&quot;/mnt/data/shahbuland/video-pro…</td><td>2.5</td></tr><tr><td>76</td><td>-707.0</td><td>-2121.0</td><td>0.0</td><td>null</td><td>null</td><td>null</td><td>null</td><td>null</td><td>null</td><td>null</td><td>null</td><td>null</td><td>null</td><td>null</td><td>null</td><td>null</td><td>null</td><td>null</td><td>null</td><td>null</td><td>null</td><td>null</td><td>null</td><td>null</td><td>null</td><td>null</td><td>null</td><td>null</td><td>null</td><td>null</td><td>null</td><td>null</td><td>null</td><td>null</td><td>null</td><td>null</td><td>null</td><td>null</td><td>null</td><td>null</td><td>null</td><td>null</td><td>null</td><td>null</td><td>null</td><td>null</td><td>null</td><td>null</td><td>null</td><td>null</td><td>null</td><td>null</td><td>null</td><td>null</td><td>null</td><td>null</td><td>null</td><td>null</td><td>null</td><td>null</td><td>null</td><td>&quot;/mnt/data/shahbuland/video-pro…</td><td>2.533333</td></tr><tr><td>77</td><td>-680.0</td><td>-1868.0</td><td>0.0</td><td>null</td><td>null</td><td>null</td><td>null</td><td>null</td><td>null</td><td>null</td><td>null</td><td>null</td><td>null</td><td>null</td><td>null</td><td>null</td><td>null</td><td>null</td><td>null</td><td>null</td><td>null</td><td>null</td><td>null</td><td>null</td><td>null</td><td>null</td><td>null</td><td>null</td><td>null</td><td>null</td><td>null</td><td>null</td><td>null</td><td>null</td><td>null</td><td>null</td><td>null</td><td>null</td><td>null</td><td>null</td><td>null</td><td>null</td><td>null</td><td>null</td><td>null</td><td>null</td><td>null</td><td>null</td><td>null</td><td>null</td><td>null</td><td>null</td><td>null</td><td>null</td><td>null</td><td>null</td><td>null</td><td>null</td><td>null</td><td>null</td><td>null</td><td>&quot;/mnt/data/shahbuland/video-pro…</td><td>2.566667</td></tr></tbody></table></div>"
      ],
      "text/plain": [
       "shape: (5, 64)\n",
       "┌───────────┬────────┬─────────┬───────┬───┬──────┬─────────────┬───────────────────────┬──────────┐\n",
       "│ frame_idx ┆ dx     ┆ dy      ┆ wheel ┆ … ┆ 4    ┆ pos_x: -51; ┆ video_path            ┆ t_sec    │\n",
       "│ ---       ┆ ---    ┆ ---     ┆ ---   ┆   ┆ ---  ┆ pos_y:      ┆ ---                   ┆ ---      │\n",
       "│ i64       ┆ f64    ┆ f64     ┆ f64   ┆   ┆ i64  ┆ ---         ┆ str                   ┆ f64      │\n",
       "│           ┆        ┆         ┆       ┆   ┆      ┆ i64         ┆                       ┆          │\n",
       "╞═══════════╪════════╪═════════╪═══════╪═══╪══════╪═════════════╪═══════════════════════╪══════════╡\n",
       "│ 56        ┆ 0.0    ┆ 0.0     ┆ 0.0   ┆ … ┆ 0    ┆ 0           ┆ /mnt/data/shahbuland/ ┆ 1.866667 │\n",
       "│           ┆        ┆         ┆       ┆   ┆      ┆             ┆ video-pro…            ┆          │\n",
       "│ 71        ┆ 0.0    ┆ 0.0     ┆ 0.0   ┆ … ┆ 0    ┆ 0           ┆ /mnt/data/shahbuland/ ┆ 2.366667 │\n",
       "│           ┆        ┆         ┆       ┆   ┆      ┆             ┆ video-pro…            ┆          │\n",
       "│ 75        ┆ -113.0 ┆ -504.0  ┆ 0.0   ┆ … ┆ null ┆ null        ┆ /mnt/data/shahbuland/ ┆ 2.5      │\n",
       "│           ┆        ┆         ┆       ┆   ┆      ┆             ┆ video-pro…            ┆          │\n",
       "│ 76        ┆ -707.0 ┆ -2121.0 ┆ 0.0   ┆ … ┆ null ┆ null        ┆ /mnt/data/shahbuland/ ┆ 2.533333 │\n",
       "│           ┆        ┆         ┆       ┆   ┆      ┆             ┆ video-pro…            ┆          │\n",
       "│ 77        ┆ -680.0 ┆ -1868.0 ┆ 0.0   ┆ … ┆ null ┆ null        ┆ /mnt/data/shahbuland/ ┆ 2.566667 │\n",
       "│           ┆        ┆         ┆       ┆   ┆      ┆             ┆ video-pro…            ┆          │\n",
       "└───────────┴────────┴─────────┴───────┴───┴──────┴─────────────┴───────────────────────┴──────────┘"
      ]
     },
     "execution_count": 6,
     "metadata": {},
     "output_type": "execute_result"
    }
   ],
   "source": [
    "proc_df = pl.read_parquet(ACTION_PARQUET)\n",
    "proc_df.head()\n",
    "\n",
    "# TODO Mouse deltas should be normalized somehow, but 0 to 1 might not cut it?\n",
    "# TODO Why are some actions null instead of being 0s? I think it's cause we should be \n",
    "# aggregating on the groupby better? nulls should not exist here - i notice that when dx/dy is 0 buttons are 0\n",
    "# but when dx/dy is a number the rest are null.\n",
    "# TODO pos_x: -51; pos_y: <-- why is this a column!!!\n",
    "# TODO 0; wheelmouse2 <-- why is this also a column..?\n",
    "\n",
    "# TODO Once all the above is sorted, cancel out antagonistic actions and filter out non WASD/SHIFT/CTRL actions\n",
    "# TODO Then, check to see what's overrepresented and what is not, perhaps use some BPE for keypresses."
   ]
  },
  {
   "cell_type": "code",
   "execution_count": 8,
   "id": "256f4fa0",
   "metadata": {},
   "outputs": [
    {
     "data": {
      "text/html": [
       "<div><style>\n",
       ".dataframe > thead > tr,\n",
       ".dataframe > tbody > tr {\n",
       "  text-align: right;\n",
       "  white-space: pre-wrap;\n",
       "}\n",
       "</style>\n",
       "<small>shape: (5, 20)</small><table border=\"1\" class=\"dataframe\"><thead><tr><th>video_metadata.video_path</th><th>video_metadata.start</th><th>video_metadata.end</th><th>video_metadata.fps</th><th>video_metadata.codec</th><th>video_metadata.exc</th><th>action_data.origin_csv</th><th>action_data.origin_vid</th><th>action_data.lineno</th><th>action_data.raw</th><th>action_data.t_sec</th><th>action_data.event_type</th><th>action_data.keys_active</th><th>action_data.key_pressed</th><th>action_data.key_pressed_dir</th><th>action_data.transition</th><th>action_data.dx</th><th>action_data.dy</th><th>action_data.wheel</th><th>action_data.exc</th></tr><tr><td>str</td><td>f64</td><td>f64</td><td>f64</td><td>str</td><td>str</td><td>str</td><td>str</td><td>i64</td><td>str</td><td>f64</td><td>str</td><td>list[str]</td><td>str</td><td>str</td><td>null</td><td>f64</td><td>f64</td><td>f64</td><td>null</td></tr></thead><tbody><tr><td>&quot;/mnt/data/shahbuland/video-pro…</td><td>0.0</td><td>110153.0</td><td>60.0</td><td>&quot;hevc&quot;</td><td>null</td><td>&quot;/mnt/data/shahbuland/video-pro…</td><td>&quot;/mnt/data/shahbuland/video-pro…</td><td>0</td><td>&quot;1.655,W,W down\n",
       "&quot;</td><td>1.655</td><td>&quot;key&quot;</td><td>[&quot;w&quot;]</td><td>&quot;w&quot;</td><td>&quot;down&quot;</td><td>null</td><td>null</td><td>null</td><td>null</td><td>null</td></tr><tr><td>&quot;/mnt/data/shahbuland/video-pro…</td><td>0.0</td><td>110153.0</td><td>60.0</td><td>&quot;hevc&quot;</td><td>null</td><td>&quot;/mnt/data/shahbuland/video-pro…</td><td>&quot;/mnt/data/shahbuland/video-pro…</td><td>1</td><td>&quot;2.155,W,W down\n",
       "&quot;</td><td>2.155</td><td>&quot;key&quot;</td><td>[&quot;w&quot;]</td><td>&quot;w&quot;</td><td>&quot;down&quot;</td><td>null</td><td>null</td><td>null</td><td>null</td><td>null</td></tr><tr><td>&quot;/mnt/data/shahbuland/video-pro…</td><td>0.0</td><td>110153.0</td><td>60.0</td><td>&quot;hevc&quot;</td><td>null</td><td>&quot;/mnt/data/shahbuland/video-pro…</td><td>&quot;/mnt/data/shahbuland/video-pro…</td><td>2</td><td>&quot;2.187,W,W down\n",
       "&quot;</td><td>2.187</td><td>&quot;key&quot;</td><td>[&quot;w&quot;]</td><td>&quot;w&quot;</td><td>&quot;down&quot;</td><td>null</td><td>null</td><td>null</td><td>null</td><td>null</td></tr><tr><td>&quot;/mnt/data/shahbuland/video-pro…</td><td>0.0</td><td>110153.0</td><td>60.0</td><td>&quot;hevc&quot;</td><td>null</td><td>&quot;/mnt/data/shahbuland/video-pro…</td><td>&quot;/mnt/data/shahbuland/video-pro…</td><td>3</td><td>&quot;2.234,W,W down\n",
       "&quot;</td><td>2.234</td><td>&quot;key&quot;</td><td>[&quot;w&quot;]</td><td>&quot;w&quot;</td><td>&quot;down&quot;</td><td>null</td><td>null</td><td>null</td><td>null</td><td>null</td></tr><tr><td>&quot;/mnt/data/shahbuland/video-pro…</td><td>0.0</td><td>110153.0</td><td>60.0</td><td>&quot;hevc&quot;</td><td>null</td><td>&quot;/mnt/data/shahbuland/video-pro…</td><td>&quot;/mnt/data/shahbuland/video-pro…</td><td>4</td><td>&quot;2.265,W,W down\n",
       "&quot;</td><td>2.265</td><td>&quot;key&quot;</td><td>[&quot;w&quot;]</td><td>&quot;w&quot;</td><td>&quot;down&quot;</td><td>null</td><td>null</td><td>null</td><td>null</td><td>null</td></tr></tbody></table></div>"
      ],
      "text/plain": [
       "shape: (5, 20)\n",
       "┌───────────┬───────────┬───────────┬───────────┬───┬───────────┬───────────┬───────────┬──────────┐\n",
       "│ video_met ┆ video_met ┆ video_met ┆ video_met ┆ … ┆ action_da ┆ action_da ┆ action_da ┆ action_d │\n",
       "│ adata.vid ┆ adata.sta ┆ adata.end ┆ adata.fps ┆   ┆ ta.dx     ┆ ta.dy     ┆ ta.wheel  ┆ ata.exc  │\n",
       "│ eo_path   ┆ rt        ┆ ---       ┆ ---       ┆   ┆ ---       ┆ ---       ┆ ---       ┆ ---      │\n",
       "│ ---       ┆ ---       ┆ f64       ┆ f64       ┆   ┆ f64       ┆ f64       ┆ f64       ┆ null     │\n",
       "│ str       ┆ f64       ┆           ┆           ┆   ┆           ┆           ┆           ┆          │\n",
       "╞═══════════╪═══════════╪═══════════╪═══════════╪═══╪═══════════╪═══════════╪═══════════╪══════════╡\n",
       "│ /mnt/data ┆ 0.0       ┆ 110153.0  ┆ 60.0      ┆ … ┆ null      ┆ null      ┆ null      ┆ null     │\n",
       "│ /shahbula ┆           ┆           ┆           ┆   ┆           ┆           ┆           ┆          │\n",
       "│ nd/video- ┆           ┆           ┆           ┆   ┆           ┆           ┆           ┆          │\n",
       "│ pro…      ┆           ┆           ┆           ┆   ┆           ┆           ┆           ┆          │\n",
       "│ /mnt/data ┆ 0.0       ┆ 110153.0  ┆ 60.0      ┆ … ┆ null      ┆ null      ┆ null      ┆ null     │\n",
       "│ /shahbula ┆           ┆           ┆           ┆   ┆           ┆           ┆           ┆          │\n",
       "│ nd/video- ┆           ┆           ┆           ┆   ┆           ┆           ┆           ┆          │\n",
       "│ pro…      ┆           ┆           ┆           ┆   ┆           ┆           ┆           ┆          │\n",
       "│ /mnt/data ┆ 0.0       ┆ 110153.0  ┆ 60.0      ┆ … ┆ null      ┆ null      ┆ null      ┆ null     │\n",
       "│ /shahbula ┆           ┆           ┆           ┆   ┆           ┆           ┆           ┆          │\n",
       "│ nd/video- ┆           ┆           ┆           ┆   ┆           ┆           ┆           ┆          │\n",
       "│ pro…      ┆           ┆           ┆           ┆   ┆           ┆           ┆           ┆          │\n",
       "│ /mnt/data ┆ 0.0       ┆ 110153.0  ┆ 60.0      ┆ … ┆ null      ┆ null      ┆ null      ┆ null     │\n",
       "│ /shahbula ┆           ┆           ┆           ┆   ┆           ┆           ┆           ┆          │\n",
       "│ nd/video- ┆           ┆           ┆           ┆   ┆           ┆           ┆           ┆          │\n",
       "│ pro…      ┆           ┆           ┆           ┆   ┆           ┆           ┆           ┆          │\n",
       "│ /mnt/data ┆ 0.0       ┆ 110153.0  ┆ 60.0      ┆ … ┆ null      ┆ null      ┆ null      ┆ null     │\n",
       "│ /shahbula ┆           ┆           ┆           ┆   ┆           ┆           ┆           ┆          │\n",
       "│ nd/video- ┆           ┆           ┆           ┆   ┆           ┆           ┆           ┆          │\n",
       "│ pro…      ┆           ┆           ┆           ┆   ┆           ┆           ┆           ┆          │\n",
       "└───────────┴───────────┴───────────┴───────────┴───┴───────────┴───────────┴───────────┴──────────┘"
      ]
     },
     "execution_count": 8,
     "metadata": {},
     "output_type": "execute_result"
    }
   ],
   "source": [
    "raw_df = pl.read_parquet(EVENT_PARQUET)\n",
    "raw_df.head()"
   ]
  }
 ],
 "metadata": {
  "kernelspec": {
   "display_name": "venv",
   "language": "python",
   "name": "python3"
  },
  "language_info": {
   "codemirror_mode": {
    "name": "ipython",
    "version": 3
   },
   "file_extension": ".py",
   "mimetype": "text/x-python",
   "name": "python",
   "nbconvert_exporter": "python",
   "pygments_lexer": "ipython3",
   "version": "3.12.9"
  }
 },
 "nbformat": 4,
 "nbformat_minor": 5
}
