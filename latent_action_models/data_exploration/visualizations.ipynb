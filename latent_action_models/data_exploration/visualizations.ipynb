{
 "cells": [
  {
   "cell_type": "code",
   "execution_count": 6,
   "id": "f642fec4",
   "metadata": {},
   "outputs": [
    {
     "name": "stdout",
     "output_type": "stream",
     "text": [
      "['frame_idx', 'dx', 'dy', 'wheel', 'keypress_a', 'keypress_d', 'keypress_mouse1', 'keypress_mouse2', 'keypress_s', 'keypress_w', 'video_path', 't_sec']\n"
     ]
    }
   ],
   "source": [
    "import  pandas as pd, polars as pl\n",
    "from    pathlib import Path\n",
    "from    toolz import first\n",
    "\n",
    "from    latent_action_models.data_exploration import cache\n",
    "\n",
    "ACTION_PARQUET  = Path(first(cache.__path__)) / 'gta_frames_clean.parquet'\n",
    "EVENT_PARQUET   = Path(first(cache.__path__)) / 'gta_events.parquet'\n",
    "\n",
    "proc_df = pl.read_parquet(ACTION_PARQUET)\n",
    "\n",
    "print(proc_df.columns)"
   ]
  },
  {
   "cell_type": "code",
   "execution_count": null,
   "id": "6b5b28c2",
   "metadata": {},
   "outputs": [
    {
     "data": {
      "text/html": [
       "<div><style>\n",
       ".dataframe > thead > tr,\n",
       ".dataframe > tbody > tr {\n",
       "  text-align: right;\n",
       "  white-space: pre-wrap;\n",
       "}\n",
       "</style>\n",
       "<small>shape: (5, 12)</small><table border=\"1\" class=\"dataframe\"><thead><tr><th>frame_idx</th><th>dx</th><th>dy</th><th>wheel</th><th>keypress_a</th><th>keypress_d</th><th>keypress_mouse1</th><th>keypress_mouse2</th><th>keypress_s</th><th>keypress_w</th><th>video_path</th><th>t_sec</th></tr><tr><td>i64</td><td>f64</td><td>f64</td><td>f64</td><td>i64</td><td>i64</td><td>i64</td><td>i64</td><td>i64</td><td>i64</td><td>str</td><td>f64</td></tr></thead><tbody><tr><td>33</td><td>-18.0</td><td>0.0</td><td>0.0</td><td>0</td><td>0</td><td>0</td><td>0</td><td>0</td><td>0</td><td>&quot;/mnt/data/shahbuland/video-pro…</td><td>1.1</td></tr><tr><td>34</td><td>-9.0</td><td>0.0</td><td>0.0</td><td>0</td><td>0</td><td>0</td><td>0</td><td>0</td><td>0</td><td>&quot;/mnt/data/shahbuland/video-pro…</td><td>1.133333</td></tr><tr><td>35</td><td>-642.0</td><td>198.0</td><td>0.0</td><td>0</td><td>0</td><td>0</td><td>0</td><td>0</td><td>0</td><td>&quot;/mnt/data/shahbuland/video-pro…</td><td>1.166667</td></tr><tr><td>36</td><td>-473.0</td><td>33.0</td><td>0.0</td><td>0</td><td>0</td><td>0</td><td>0</td><td>0</td><td>0</td><td>&quot;/mnt/data/shahbuland/video-pro…</td><td>1.2</td></tr><tr><td>37</td><td>-366.0</td><td>0.0</td><td>0.0</td><td>0</td><td>0</td><td>0</td><td>0</td><td>0</td><td>0</td><td>&quot;/mnt/data/shahbuland/video-pro…</td><td>1.233333</td></tr></tbody></table></div>"
      ],
      "text/plain": [
       "shape: (5, 12)\n",
       "┌───────────┬────────┬───────┬───────┬───┬────────────┬────────────┬────────────────────┬──────────┐\n",
       "│ frame_idx ┆ dx     ┆ dy    ┆ wheel ┆ … ┆ keypress_s ┆ keypress_w ┆ video_path         ┆ t_sec    │\n",
       "│ ---       ┆ ---    ┆ ---   ┆ ---   ┆   ┆ ---        ┆ ---        ┆ ---                ┆ ---      │\n",
       "│ i64       ┆ f64    ┆ f64   ┆ f64   ┆   ┆ i64        ┆ i64        ┆ str                ┆ f64      │\n",
       "╞═══════════╪════════╪═══════╪═══════╪═══╪════════════╪════════════╪════════════════════╪══════════╡\n",
       "│ 33        ┆ -18.0  ┆ 0.0   ┆ 0.0   ┆ … ┆ 0          ┆ 0          ┆ /mnt/data/shahbula ┆ 1.1      │\n",
       "│           ┆        ┆       ┆       ┆   ┆            ┆            ┆ nd/video-pro…      ┆          │\n",
       "│ 34        ┆ -9.0   ┆ 0.0   ┆ 0.0   ┆ … ┆ 0          ┆ 0          ┆ /mnt/data/shahbula ┆ 1.133333 │\n",
       "│           ┆        ┆       ┆       ┆   ┆            ┆            ┆ nd/video-pro…      ┆          │\n",
       "│ 35        ┆ -642.0 ┆ 198.0 ┆ 0.0   ┆ … ┆ 0          ┆ 0          ┆ /mnt/data/shahbula ┆ 1.166667 │\n",
       "│           ┆        ┆       ┆       ┆   ┆            ┆            ┆ nd/video-pro…      ┆          │\n",
       "│ 36        ┆ -473.0 ┆ 33.0  ┆ 0.0   ┆ … ┆ 0          ┆ 0          ┆ /mnt/data/shahbula ┆ 1.2      │\n",
       "│           ┆        ┆       ┆       ┆   ┆            ┆            ┆ nd/video-pro…      ┆          │\n",
       "│ 37        ┆ -366.0 ┆ 0.0   ┆ 0.0   ┆ … ┆ 0          ┆ 0          ┆ /mnt/data/shahbula ┆ 1.233333 │\n",
       "│           ┆        ┆       ┆       ┆   ┆            ┆            ┆ nd/video-pro…      ┆          │\n",
       "└───────────┴────────┴───────┴───────┴───┴────────────┴────────────┴────────────────────┴──────────┘"
      ]
     },
     "execution_count": 7,
     "metadata": {},
     "output_type": "execute_result"
    }
   ],
   "source": [
    "proc_df = pl.read_parquet(ACTION_PARQUET)\n",
    "proc_df.head()\n",
    "\n",
    "# TODO Mouse deltas should be normalized somehow, but 0 to 1 might not cut it?\n",
    "# TODO Once all the above is sorted, cancel out antagonistic actions and filter out non WASD/SHIFT/CTRL actions\n",
    "# TODO Then, check to see what's overrepresented and what is not, perhaps use some BPE for keypresses."
   ]
  },
  {
   "cell_type": "code",
   "execution_count": 9,
   "id": "256f4fa0",
   "metadata": {},
   "outputs": [
    {
     "data": {
      "text/html": [
       "<div><style>\n",
       ".dataframe > thead > tr,\n",
       ".dataframe > tbody > tr {\n",
       "  text-align: right;\n",
       "  white-space: pre-wrap;\n",
       "}\n",
       "</style>\n",
       "<small>shape: (1, 6)</small><table border=\"1\" class=\"dataframe\"><thead><tr><th>keypress_w</th><th>keypress_a</th><th>keypress_s</th><th>keypress_d</th><th>keypress_mouse1</th><th>keypress_mouse2</th></tr><tr><td>i64</td><td>i64</td><td>i64</td><td>i64</td><td>i64</td><td>i64</td></tr></thead><tbody><tr><td>4091017</td><td>2595533</td><td>1847368</td><td>2477244</td><td>129177</td><td>558284</td></tr></tbody></table></div>"
      ],
      "text/plain": [
       "shape: (1, 6)\n",
       "┌────────────┬────────────┬────────────┬────────────┬─────────────────┬─────────────────┐\n",
       "│ keypress_w ┆ keypress_a ┆ keypress_s ┆ keypress_d ┆ keypress_mouse1 ┆ keypress_mouse2 │\n",
       "│ ---        ┆ ---        ┆ ---        ┆ ---        ┆ ---             ┆ ---             │\n",
       "│ i64        ┆ i64        ┆ i64        ┆ i64        ┆ i64             ┆ i64             │\n",
       "╞════════════╪════════════╪════════════╪════════════╪═════════════════╪═════════════════╡\n",
       "│ 4091017    ┆ 2595533    ┆ 1847368    ┆ 2477244    ┆ 129177          ┆ 558284          │\n",
       "└────────────┴────────────┴────────────┴────────────┴─────────────────┴─────────────────┘"
      ]
     },
     "execution_count": 9,
     "metadata": {},
     "output_type": "execute_result"
    }
   ],
   "source": [
    "proc_df.select([\"keypress_w\", \"keypress_a\", \"keypress_s\", \"keypress_d\", \"keypress_mouse1\", \"keypress_mouse2\"]).sum()"
   ]
  }
 ],
 "metadata": {
  "kernelspec": {
   "display_name": "venv",
   "language": "python",
   "name": "python3"
  },
  "language_info": {
   "codemirror_mode": {
    "name": "ipython",
    "version": 3
   },
   "file_extension": ".py",
   "mimetype": "text/x-python",
   "name": "python",
   "nbconvert_exporter": "python",
   "pygments_lexer": "ipython3",
   "version": "3.12.9"
  }
 },
 "nbformat": 4,
 "nbformat_minor": 5
}
